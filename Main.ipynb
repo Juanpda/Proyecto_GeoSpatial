{
 "cells": [
  {
   "cell_type": "markdown",
   "id": "dcc11523",
   "metadata": {},
   "source": [
    "# Project GeoSpatial"
   ]
  },
  {
   "cell_type": "markdown",
   "id": "950d9352",
   "metadata": {},
   "source": [
    "## Introduction"
   ]
  },
  {
   "cell_type": "markdown",
   "id": "5dc8adb8",
   "metadata": {},
   "source": [
    "This project consist in selecting the optimal location for a gaming enterprise conditioned by some nearby locations:"
   ]
  },
  {
   "cell_type": "markdown",
   "id": "b7c133cb",
   "metadata": {},
   "source": [
    "- 20 Designers like to go to design talks and share knowledge. There must be some nearby companies that also do design.\n",
    "- 30% of the company staff have at least 1 child.\n",
    "- 15 Developers like to be near successful tech startups that have raised at least 1 Million dollars.\n",
    "- 10 Executives like Starbucks A LOT. Ensure there's a starbucks not too far.\n",
    "- 20 Account managers need to travel a lot.\n",
    "- Everyone in the company is between 25 and 40, give them some place to go party.\n",
    "- 1 The CEO is vegan.\n",
    "- 1 If you want to make the maintenance guy happy, a basketball stadium must be around 10 Km.\n",
    "- The office dog—\"Dobby\" needs a hairdresser every month. Ensure there's one not too far away.\n"
   ]
  },
  {
   "cell_type": "markdown",
   "id": "bf88034b",
   "metadata": {},
   "source": [
    "## Libraries"
   ]
  },
  {
   "cell_type": "markdown",
   "id": "7850f33c",
   "metadata": {},
   "source": [
    "First of all, we install/import all the necessary libraries:"
   ]
  },
  {
   "cell_type": "code",
   "execution_count": 1,
   "id": "af9ccbb0",
   "metadata": {
    "collapsed": true
   },
   "outputs": [
    {
     "name": "stdout",
     "output_type": "stream",
     "text": [
      "Requirement already satisfied: pyjsonviewer in /usr/local/Caskroom/miniconda/base/envs/IRONHACK/lib/python3.9/site-packages (1.6.0)\n",
      "Note: you may need to restart the kernel to use updated packages.\n",
      "Requirement already satisfied: cartoframes in /usr/local/Caskroom/miniconda/base/envs/IRONHACK/lib/python3.9/site-packages (1.2.4)\n",
      "Requirement already satisfied: geopandas<1.0,>=0.6.0 in /usr/local/Caskroom/miniconda/base/envs/IRONHACK/lib/python3.9/site-packages (from cartoframes) (0.10.2)\n",
      "Requirement already satisfied: pandas>=0.25.0 in /usr/local/Caskroom/miniconda/base/envs/IRONHACK/lib/python3.9/site-packages (from cartoframes) (1.3.4)\n",
      "Requirement already satisfied: appdirs<2.0,>=1.4.3 in /usr/local/Caskroom/miniconda/base/envs/IRONHACK/lib/python3.9/site-packages (from cartoframes) (1.4.4)\n",
      "Requirement already satisfied: jinja2<3.0,>=2.10.1 in /usr/local/Caskroom/miniconda/base/envs/IRONHACK/lib/python3.9/site-packages (from cartoframes) (2.11.3)\n",
      "Requirement already satisfied: semantic-version<3,>=2.8.0 in /usr/local/Caskroom/miniconda/base/envs/IRONHACK/lib/python3.9/site-packages (from cartoframes) (2.8.5)\n",
      "Requirement already satisfied: carto<2.0,>=1.11.3 in /usr/local/Caskroom/miniconda/base/envs/IRONHACK/lib/python3.9/site-packages (from cartoframes) (1.11.3)\n",
      "Requirement already satisfied: unidecode<2.0,>=1.1.0 in /usr/local/Caskroom/miniconda/base/envs/IRONHACK/lib/python3.9/site-packages (from cartoframes) (1.3.2)\n",
      "Requirement already satisfied: requests>=2.7.0 in /usr/local/Caskroom/miniconda/base/envs/IRONHACK/lib/python3.9/site-packages (from carto<2.0,>=1.11.3->cartoframes) (2.26.0)\n",
      "Requirement already satisfied: pyrestcli==0.6.11 in /usr/local/Caskroom/miniconda/base/envs/IRONHACK/lib/python3.9/site-packages (from carto<2.0,>=1.11.3->cartoframes) (0.6.11)\n",
      "Requirement already satisfied: python-dateutil>=2.5.3 in /usr/local/Caskroom/miniconda/base/envs/IRONHACK/lib/python3.9/site-packages (from pyrestcli==0.6.11->carto<2.0,>=1.11.3->cartoframes) (2.8.2)\n",
      "Requirement already satisfied: future>=0.15.2 in /usr/local/Caskroom/miniconda/base/envs/IRONHACK/lib/python3.9/site-packages (from pyrestcli==0.6.11->carto<2.0,>=1.11.3->cartoframes) (0.18.2)\n",
      "Requirement already satisfied: fiona>=1.8 in /usr/local/Caskroom/miniconda/base/envs/IRONHACK/lib/python3.9/site-packages (from geopandas<1.0,>=0.6.0->cartoframes) (1.8.20)\n",
      "Requirement already satisfied: pyproj>=2.2.0 in /usr/local/Caskroom/miniconda/base/envs/IRONHACK/lib/python3.9/site-packages (from geopandas<1.0,>=0.6.0->cartoframes) (3.3.0)\n",
      "Requirement already satisfied: shapely>=1.6 in /usr/local/Caskroom/miniconda/base/envs/IRONHACK/lib/python3.9/site-packages (from geopandas<1.0,>=0.6.0->cartoframes) (1.8.0)\n",
      "Requirement already satisfied: six>=1.7 in /usr/local/Caskroom/miniconda/base/envs/IRONHACK/lib/python3.9/site-packages (from fiona>=1.8->geopandas<1.0,>=0.6.0->cartoframes) (1.16.0)\n",
      "Requirement already satisfied: setuptools in /usr/local/Caskroom/miniconda/base/envs/IRONHACK/lib/python3.9/site-packages (from fiona>=1.8->geopandas<1.0,>=0.6.0->cartoframes) (58.0.4)\n",
      "Requirement already satisfied: certifi in /usr/local/Caskroom/miniconda/base/envs/IRONHACK/lib/python3.9/site-packages (from fiona>=1.8->geopandas<1.0,>=0.6.0->cartoframes) (2021.10.8)\n",
      "Requirement already satisfied: attrs>=17 in /usr/local/Caskroom/miniconda/base/envs/IRONHACK/lib/python3.9/site-packages (from fiona>=1.8->geopandas<1.0,>=0.6.0->cartoframes) (21.2.0)\n",
      "Requirement already satisfied: click>=4.0 in /usr/local/Caskroom/miniconda/base/envs/IRONHACK/lib/python3.9/site-packages (from fiona>=1.8->geopandas<1.0,>=0.6.0->cartoframes) (8.0.3)\n",
      "Requirement already satisfied: munch in /usr/local/Caskroom/miniconda/base/envs/IRONHACK/lib/python3.9/site-packages (from fiona>=1.8->geopandas<1.0,>=0.6.0->cartoframes) (2.5.0)\n",
      "Requirement already satisfied: click-plugins>=1.0 in /usr/local/Caskroom/miniconda/base/envs/IRONHACK/lib/python3.9/site-packages (from fiona>=1.8->geopandas<1.0,>=0.6.0->cartoframes) (1.1.1)\n",
      "Requirement already satisfied: cligj>=0.5 in /usr/local/Caskroom/miniconda/base/envs/IRONHACK/lib/python3.9/site-packages (from fiona>=1.8->geopandas<1.0,>=0.6.0->cartoframes) (0.7.2)\n",
      "Requirement already satisfied: MarkupSafe>=0.23 in /usr/local/Caskroom/miniconda/base/envs/IRONHACK/lib/python3.9/site-packages (from jinja2<3.0,>=2.10.1->cartoframes) (2.0.1)\n",
      "Requirement already satisfied: pytz>=2017.3 in /usr/local/Caskroom/miniconda/base/envs/IRONHACK/lib/python3.9/site-packages (from pandas>=0.25.0->cartoframes) (2021.3)\n",
      "Requirement already satisfied: numpy>=1.17.3 in /usr/local/Caskroom/miniconda/base/envs/IRONHACK/lib/python3.9/site-packages (from pandas>=0.25.0->cartoframes) (1.21.3)\n",
      "Requirement already satisfied: charset-normalizer~=2.0.0 in /usr/local/Caskroom/miniconda/base/envs/IRONHACK/lib/python3.9/site-packages (from requests>=2.7.0->carto<2.0,>=1.11.3->cartoframes) (2.0.7)\n",
      "Requirement already satisfied: idna<4,>=2.5 in /usr/local/Caskroom/miniconda/base/envs/IRONHACK/lib/python3.9/site-packages (from requests>=2.7.0->carto<2.0,>=1.11.3->cartoframes) (3.3)\n",
      "Requirement already satisfied: urllib3<1.27,>=1.21.1 in /usr/local/Caskroom/miniconda/base/envs/IRONHACK/lib/python3.9/site-packages (from requests>=2.7.0->carto<2.0,>=1.11.3->cartoframes) (1.26.7)\n",
      "Requirement already satisfied: geopandas in /usr/local/Caskroom/miniconda/base/envs/IRONHACK/lib/python3.9/site-packages (0.10.2)\n",
      "Requirement already satisfied: fiona>=1.8 in /usr/local/Caskroom/miniconda/base/envs/IRONHACK/lib/python3.9/site-packages (from geopandas) (1.8.20)\n",
      "Requirement already satisfied: pandas>=0.25.0 in /usr/local/Caskroom/miniconda/base/envs/IRONHACK/lib/python3.9/site-packages (from geopandas) (1.3.4)\n",
      "Requirement already satisfied: pyproj>=2.2.0 in /usr/local/Caskroom/miniconda/base/envs/IRONHACK/lib/python3.9/site-packages (from geopandas) (3.3.0)\n",
      "Requirement already satisfied: shapely>=1.6 in /usr/local/Caskroom/miniconda/base/envs/IRONHACK/lib/python3.9/site-packages (from geopandas) (1.8.0)\n",
      "Requirement already satisfied: click>=4.0 in /usr/local/Caskroom/miniconda/base/envs/IRONHACK/lib/python3.9/site-packages (from fiona>=1.8->geopandas) (8.0.3)\n",
      "Requirement already satisfied: attrs>=17 in /usr/local/Caskroom/miniconda/base/envs/IRONHACK/lib/python3.9/site-packages (from fiona>=1.8->geopandas) (21.2.0)\n",
      "Requirement already satisfied: setuptools in /usr/local/Caskroom/miniconda/base/envs/IRONHACK/lib/python3.9/site-packages (from fiona>=1.8->geopandas) (58.0.4)\n",
      "Requirement already satisfied: certifi in /usr/local/Caskroom/miniconda/base/envs/IRONHACK/lib/python3.9/site-packages (from fiona>=1.8->geopandas) (2021.10.8)\n",
      "Requirement already satisfied: six>=1.7 in /usr/local/Caskroom/miniconda/base/envs/IRONHACK/lib/python3.9/site-packages (from fiona>=1.8->geopandas) (1.16.0)\n",
      "Requirement already satisfied: cligj>=0.5 in /usr/local/Caskroom/miniconda/base/envs/IRONHACK/lib/python3.9/site-packages (from fiona>=1.8->geopandas) (0.7.2)\n",
      "Requirement already satisfied: click-plugins>=1.0 in /usr/local/Caskroom/miniconda/base/envs/IRONHACK/lib/python3.9/site-packages (from fiona>=1.8->geopandas) (1.1.1)\n",
      "Requirement already satisfied: munch in /usr/local/Caskroom/miniconda/base/envs/IRONHACK/lib/python3.9/site-packages (from fiona>=1.8->geopandas) (2.5.0)\n",
      "Requirement already satisfied: python-dateutil>=2.7.3 in /usr/local/Caskroom/miniconda/base/envs/IRONHACK/lib/python3.9/site-packages (from pandas>=0.25.0->geopandas) (2.8.2)\n",
      "Requirement already satisfied: pytz>=2017.3 in /usr/local/Caskroom/miniconda/base/envs/IRONHACK/lib/python3.9/site-packages (from pandas>=0.25.0->geopandas) (2021.3)\n",
      "Requirement already satisfied: numpy>=1.17.3 in /usr/local/Caskroom/miniconda/base/envs/IRONHACK/lib/python3.9/site-packages (from pandas>=0.25.0->geopandas) (1.21.3)\n",
      "Note: you may need to restart the kernel to use updated packages.\n"
     ]
    }
   ],
   "source": [
    "%pip install pyjsonviewer\n",
    "!pip install cartoframes\n",
    "%pip install geopandas"
   ]
  },
  {
   "cell_type": "code",
   "execution_count": 3,
   "id": "ea078baa",
   "metadata": {},
   "outputs": [],
   "source": [
    "import requests\n",
    "import json\n",
    "from dotenv import load_dotenv\n",
    "import os\n",
    "import pandas as pd\n",
    "import sys\n",
    "sys.path.append('/Users/juanperezdeayala/Documents/IRONHACK/Geospatial-Data-Project-/SRC')\n",
    "from functools import reduce\n",
    "import src.datagenerator as dg\n",
    "import src.index as ix\n",
    "import operator\n",
    "import geopandas as gpd\n",
    "import shapely.geometry\n",
    "from pymongo import MongoClient\n",
    "from pymongo import GEOSPHERE"
   ]
  },
  {
   "cell_type": "markdown",
   "id": "45df0ea1",
   "metadata": {},
   "source": [
    "## Selecting locations\n"
   ]
  },
  {
   "cell_type": "markdown",
   "id": "641a2875",
   "metadata": {},
   "source": [
    "To select the location, I have chosen three top companies in the videogames market and I will select which of them covers better the conditions."
   ]
  },
  {
   "cell_type": "markdown",
   "id": "7f1306fe",
   "metadata": {},
   "source": [
    "#### Top 8 Companies in the sector\n",
    "\n",
    "- Tencent: Shenzen, China\n",
    "- Sony Interactive Entertainment: Tokio, Japón\n",
    "- Xbox Game Studios: Washington, USA\n",
    "- Activision Blizzard: Los Ángeles, California, USA\n",
    "- Electronic Arts: Redwood city, California, USA\n",
    "- Ubisoft: Montreuil, Francia\n",
    "- Square Enix: Tokio, Japón\n",
    "- Nintendo: Kioto, Japón"
   ]
  },
  {
   "cell_type": "markdown",
   "id": "27f0a950",
   "metadata": {},
   "source": [
    "I have chosen Sony Interactive Entertainment, Activision Blizzard and Ubisoft in order to select and compare different countries."
   ]
  },
  {
   "cell_type": "markdown",
   "id": "5b4ae255",
   "metadata": {},
   "source": [
    "## Getting Coordinates"
   ]
  },
  {
   "cell_type": "markdown",
   "id": "416bc137",
   "metadata": {},
   "source": [
    "In order to get the coordinates (lat y long), I have created a function where you input the adress and it output the coordinates."
   ]
  },
  {
   "cell_type": "markdown",
   "id": "4fbf2c7d",
   "metadata": {},
   "source": [
    "Using the function with Sony"
   ]
  },
  {
   "cell_type": "code",
   "execution_count": 5,
   "id": "81a9758f",
   "metadata": {},
   "outputs": [
    {
     "data": {
      "text/plain": [
       "{'standard': {'addresst': 'Minato',\n",
       "  'city': 'Tokyo',\n",
       "  'prov': 'JP',\n",
       "  'countryname': 'Japan',\n",
       "  'postal': {},\n",
       "  'confidence': '0.4'},\n",
       " 'longt': '139.74342',\n",
       " 'alt': {},\n",
       " 'elevation': {},\n",
       " 'latt': '35.65278'}"
      ]
     },
     "execution_count": 5,
     "metadata": {},
     "output_type": "execute_result"
    }
   ],
   "source": [
    "Tokio_coord = dg.geocode('Minato City, Tokyo 108-0075, Japon')\n",
    "Tokio_coord"
   ]
  },
  {
   "cell_type": "markdown",
   "id": "b42477f7",
   "metadata": {},
   "source": [
    "Using the function with Activision"
   ]
  },
  {
   "cell_type": "code",
   "execution_count": 6,
   "id": "9751f790",
   "metadata": {},
   "outputs": [
    {
     "data": {
      "text/plain": [
       "{'standard': {'stnumber': '3100',\n",
       "  'addresst': 'Ocean Park Blvd',\n",
       "  'postal': '90405',\n",
       "  'region': 'CA',\n",
       "  'zip': '90405',\n",
       "  'prov': 'US',\n",
       "  'city': 'Santa Monica',\n",
       "  'countryname': 'United States of America',\n",
       "  'confidence': '1'},\n",
       " 'longt': '-118.45255',\n",
       " 'alt': {},\n",
       " 'elevation': {},\n",
       " 'latt': '34.01978'}"
      ]
     },
     "execution_count": 6,
     "metadata": {},
     "output_type": "execute_result"
    }
   ],
   "source": [
    "USA_coord = dg.geocode('3100 Ocean Park Blvd, Santa Monica')\n",
    "USA_coord"
   ]
  },
  {
   "cell_type": "markdown",
   "id": "e6d5f157",
   "metadata": {},
   "source": [
    "Using the function with Ubisoft"
   ]
  },
  {
   "cell_type": "code",
   "execution_count": 7,
   "id": "77d625de",
   "metadata": {},
   "outputs": [
    {
     "data": {
      "text/plain": [
       "{'standard': {'stnumber': '126',\n",
       "  'addresst': 'Rue De Lagny',\n",
       "  'city': 'Montreuil',\n",
       "  'prov': 'FR',\n",
       "  'countryname': 'France',\n",
       "  'postal': '93100',\n",
       "  'confidence': '0.9'},\n",
       " 'longt': '2.41788',\n",
       " 'alt': {},\n",
       " 'elevation': {},\n",
       " 'latt': '48.84938'}"
      ]
     },
     "execution_count": 7,
     "metadata": {},
     "output_type": "execute_result"
    }
   ],
   "source": [
    "France_coord = dg.geocode('126 Rue de Lagny, 93100 Montreuil')\n",
    "France_coord"
   ]
  },
  {
   "cell_type": "markdown",
   "id": "46ac7f56",
   "metadata": {},
   "source": [
    "## Getting the Score for each location"
   ]
  },
  {
   "cell_type": "markdown",
   "id": "b13d01ff",
   "metadata": {},
   "source": [
    "To achieve the score for each country, I have selected some of the initial conditions since it is impossible to meet all the requirements:\n",
    "\n",
    "- 30% of the company staff have at least 1 child: SCHOOLS\n",
    "- Executives like Starbucks A LOT: STARBUCKS\n",
    "- Account managers need to travel a lot: TRAIN STATIONS / AIRPORTS\n",
    "- Everyone in the company is between 25 and 40, give them some place to go party: CLUBS"
   ]
  },
  {
   "cell_type": "markdown",
   "id": "73538cbf",
   "metadata": {},
   "source": [
    "In addition, to obtain a scoring system, I will perform weightings for each element:\n",
    "- SCHOOLS: 50\n",
    "- STARBUCKS: 5\n",
    "- TRAIN STATION: 10\n",
    "- AIRPORT: 10\n",
    "- CLUBS: 25"
   ]
  },
  {
   "cell_type": "markdown",
   "id": "784972e7",
   "metadata": {},
   "source": [
    "#### Score Tokyo"
   ]
  },
  {
   "cell_type": "code",
   "execution_count": 8,
   "id": "8c38ff37",
   "metadata": {},
   "outputs": [
    {
     "name": "stdout",
     "output_type": "stream",
     "text": [
      "City: Tokyo, Score:1645, location: 35.65278,139.74342, Schools: 20, Starbucks: 7, Night Clubs: 20, Train Stations: 8 Airports: 3\n"
     ]
    }
   ],
   "source": [
    "ix.main('Minato City, Tokyo 108-0075, Japon')"
   ]
  },
  {
   "cell_type": "markdown",
   "id": "a6192ab2",
   "metadata": {},
   "source": [
    "#### Score Santa Monica"
   ]
  },
  {
   "cell_type": "code",
   "execution_count": 10,
   "id": "3dcb1701",
   "metadata": {},
   "outputs": [
    {
     "name": "stdout",
     "output_type": "stream",
     "text": [
      "City: Santa Monica, Score:1170, location: 34.01978,-118.45255, Schools: 20, Starbucks: 2, Night Clubs: 4, Train Stations: 0 Airports: 6\n"
     ]
    }
   ],
   "source": [
    "ix.main('3100 Ocean Park Blvd, Santa Monica')"
   ]
  },
  {
   "cell_type": "markdown",
   "id": "59e0c24e",
   "metadata": {},
   "source": [
    "#### Score Montreuil"
   ]
  },
  {
   "cell_type": "code",
   "execution_count": 15,
   "id": "5a4d2c1e",
   "metadata": {},
   "outputs": [
    {
     "name": "stdout",
     "output_type": "stream",
     "text": [
      "City: Montreuil, Score:1400, location: 48.84938,2.41788, Schools: 20, Starbucks: 0, Night Clubs: 14, Train Stations: 3 Airports: 2\n"
     ]
    }
   ],
   "source": [
    "ix.main('126 Rue de Lagny, 93100 Montreuil')"
   ]
  },
  {
   "cell_type": "markdown",
   "id": "b2f33029",
   "metadata": {},
   "source": [
    "As we can see in the score, the best location for our gaming company is Tokyo, with a total score of 1645 points."
   ]
  }
 ],
 "metadata": {
  "kernelspec": {
   "display_name": "ironhack",
   "language": "python",
   "name": "ironhack"
  },
  "language_info": {
   "codemirror_mode": {
    "name": "ipython",
    "version": 3
   },
   "file_extension": ".py",
   "mimetype": "text/x-python",
   "name": "python",
   "nbconvert_exporter": "python",
   "pygments_lexer": "ipython3",
   "version": "3.9.7"
  }
 },
 "nbformat": 4,
 "nbformat_minor": 5
}
